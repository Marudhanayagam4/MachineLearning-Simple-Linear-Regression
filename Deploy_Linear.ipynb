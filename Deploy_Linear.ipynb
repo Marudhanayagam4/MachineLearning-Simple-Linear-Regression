{
 "cells": [
  {
   "cell_type": "code",
   "execution_count": 5,
   "id": "0342db27-0c17-411f-a925-f9b551536c17",
   "metadata": {},
   "outputs": [
    {
     "name": "stderr",
     "output_type": "stream",
     "text": [
      "C:\\Anaconda3\\Lib\\site-packages\\sklearn\\base.py:493: UserWarning: X does not have valid feature names, but LinearRegression was fitted with feature names\n",
      "  warnings.warn(\n"
     ]
    },
    {
     "name": "stdin",
     "output_type": "stream",
     "text": [
      "Enter the prediction input value: 10\n"
     ]
    },
    {
     "name": "stdout",
     "output_type": "stream",
     "text": [
      "Future Prediction=[[167181.3106341]]\n"
     ]
    }
   ],
   "source": [
    "# Deployment phase - end user\n",
    "\n",
    "import pickle # pickle in python used for process of converting a Python object into a byte stream to store it in a file/database\n",
    "filename=\"finalized_model.sav\"\n",
    "\n",
    "# Load the saved model\n",
    "loaded_model = pickle.load(open(filename,\"rb\"))\n",
    "\n",
    "# Get inputs\n",
    "prediction_input=int(input(\"Enter the prediction input value:\"))\n",
    "\n",
    "# Prediction\n",
    "future_prediction=loaded_model.predict([[prediction_input]])\n",
    "print(\"Future Prediction={}\".format(future_prediction))"
   ]
  },
  {
   "cell_type": "code",
   "execution_count": null,
   "id": "e8ab3c56-7929-4949-bfae-be5cfbd931d5",
   "metadata": {},
   "outputs": [],
   "source": []
  }
 ],
 "metadata": {
  "kernelspec": {
   "display_name": "Python 3 (ipykernel)",
   "language": "python",
   "name": "python3"
  },
  "language_info": {
   "codemirror_mode": {
    "name": "ipython",
    "version": 3
   },
   "file_extension": ".py",
   "mimetype": "text/x-python",
   "name": "python",
   "nbconvert_exporter": "python",
   "pygments_lexer": "ipython3",
   "version": "3.12.4"
  }
 },
 "nbformat": 4,
 "nbformat_minor": 5
}
